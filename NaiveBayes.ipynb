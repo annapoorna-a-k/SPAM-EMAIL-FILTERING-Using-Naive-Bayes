{
  "nbformat": 4,
  "nbformat_minor": 0,
  "metadata": {
    "colab": {
      "provenance": [],
      "gpuType": "T4"
    },
    "kernelspec": {
      "name": "python3",
      "display_name": "Python 3"
    },
    "language_info": {
      "name": "python"
    },
    "accelerator": "GPU"
  },
  "cells": [
    {
      "cell_type": "code",
      "execution_count": null,
      "metadata": {
        "id": "ZjInwmIa6pip"
      },
      "outputs": [],
      "source": [
        "#import packages\n",
        "import pandas as pd\n",
        "import numpy as np"
      ]
    },
    {
      "cell_type": "code",
      "source": [
        "import nltk\n",
        "from nltk.corpus import words #looking through each word in the email and see if it's an actual word in english then we're gonna add it to a dictionary"
      ],
      "metadata": {
        "id": "3LWlDEE1hF_O"
      },
      "execution_count": null,
      "outputs": []
    },
    {
      "cell_type": "code",
      "source": [
        "vocabulary = {} #key:word, value:index\n",
        "data = pd.read_csv('/content/emails.csv')\n",
        "nltk.download('words') #downloading words resourse\n",
        "set_words = set(words.words()) #creating a set and populating it with words obtained from the words library."
      ],
      "metadata": {
        "id": "ZqckbP9U2OEW",
        "colab": {
          "base_uri": "https://localhost:8080/"
        },
        "outputId": "4d88436d-4110-4e78-c3fb-361c19df0fe0"
      },
      "execution_count": null,
      "outputs": [
        {
          "output_type": "stream",
          "name": "stderr",
          "text": [
            "[nltk_data] Downloading package words to /root/nltk_data...\n",
            "[nltk_data]   Package words is already up-to-date!\n"
          ]
        }
      ]
    },
    {
      "cell_type": "code",
      "source": [
        "len(set_words)"
      ],
      "metadata": {
        "id": "0K-lssk8wkGO",
        "colab": {
          "base_uri": "https://localhost:8080/"
        },
        "outputId": "268b8ce0-dc68-4556-9173-c06447e0a458"
      },
      "execution_count": null,
      "outputs": [
        {
          "output_type": "execute_result",
          "data": {
            "text/plain": [
              "235892"
            ]
          },
          "metadata": {},
          "execution_count": 25
        }
      ]
    },
    {
      "cell_type": "markdown",
      "source": [
        "Data Exploration"
      ],
      "metadata": {
        "id": "PKbhSBekeIuL"
      }
    },
    {
      "cell_type": "code",
      "source": [
        "data.info()"
      ],
      "metadata": {
        "id": "Ou9wTa1XeLBP",
        "colab": {
          "base_uri": "https://localhost:8080/"
        },
        "outputId": "63e0b306-2f32-4531-f2b9-ffbc8563791f"
      },
      "execution_count": null,
      "outputs": [
        {
          "output_type": "stream",
          "name": "stdout",
          "text": [
            "<class 'pandas.core.frame.DataFrame'>\n",
            "RangeIndex: 5728 entries, 0 to 5727\n",
            "Data columns (total 2 columns):\n",
            " #   Column  Non-Null Count  Dtype \n",
            "---  ------  --------------  ----- \n",
            " 0   text    5728 non-null   object\n",
            " 1   spam    5728 non-null   int64 \n",
            "dtypes: int64(1), object(1)\n",
            "memory usage: 89.6+ KB\n"
          ]
        }
      ]
    },
    {
      "cell_type": "code",
      "source": [
        "data.shape"
      ],
      "metadata": {
        "colab": {
          "base_uri": "https://localhost:8080/"
        },
        "id": "pPm8uJlapZvZ",
        "outputId": "b3d1a9d1-fcac-4a06-f03d-c7366a34de81"
      },
      "execution_count": null,
      "outputs": [
        {
          "output_type": "execute_result",
          "data": {
            "text/plain": [
              "(5728, 2)"
            ]
          },
          "metadata": {},
          "execution_count": 27
        }
      ]
    },
    {
      "cell_type": "code",
      "source": [
        "data.head()"
      ],
      "metadata": {
        "id": "DCMrB2SVeWup",
        "colab": {
          "base_uri": "https://localhost:8080/",
          "height": 206
        },
        "outputId": "eb6dd6cf-15a8-4543-ed28-de0d31bfffbe"
      },
      "execution_count": null,
      "outputs": [
        {
          "output_type": "execute_result",
          "data": {
            "text/plain": [
              "                                                text  spam\n",
              "0  Subject: naturally irresistible your corporate...     1\n",
              "1  Subject: the stock trading gunslinger  fanny i...     1\n",
              "2  Subject: unbelievable new homes made easy  im ...     1\n",
              "3  Subject: 4 color printing special  request add...     1\n",
              "4  Subject: do not have money , get software cds ...     1"
            ],
            "text/html": [
              "\n",
              "  <div id=\"df-f15659ee-da2c-4a3d-b8b7-41a9c0b7a867\" class=\"colab-df-container\">\n",
              "    <div>\n",
              "<style scoped>\n",
              "    .dataframe tbody tr th:only-of-type {\n",
              "        vertical-align: middle;\n",
              "    }\n",
              "\n",
              "    .dataframe tbody tr th {\n",
              "        vertical-align: top;\n",
              "    }\n",
              "\n",
              "    .dataframe thead th {\n",
              "        text-align: right;\n",
              "    }\n",
              "</style>\n",
              "<table border=\"1\" class=\"dataframe\">\n",
              "  <thead>\n",
              "    <tr style=\"text-align: right;\">\n",
              "      <th></th>\n",
              "      <th>text</th>\n",
              "      <th>spam</th>\n",
              "    </tr>\n",
              "  </thead>\n",
              "  <tbody>\n",
              "    <tr>\n",
              "      <th>0</th>\n",
              "      <td>Subject: naturally irresistible your corporate...</td>\n",
              "      <td>1</td>\n",
              "    </tr>\n",
              "    <tr>\n",
              "      <th>1</th>\n",
              "      <td>Subject: the stock trading gunslinger  fanny i...</td>\n",
              "      <td>1</td>\n",
              "    </tr>\n",
              "    <tr>\n",
              "      <th>2</th>\n",
              "      <td>Subject: unbelievable new homes made easy  im ...</td>\n",
              "      <td>1</td>\n",
              "    </tr>\n",
              "    <tr>\n",
              "      <th>3</th>\n",
              "      <td>Subject: 4 color printing special  request add...</td>\n",
              "      <td>1</td>\n",
              "    </tr>\n",
              "    <tr>\n",
              "      <th>4</th>\n",
              "      <td>Subject: do not have money , get software cds ...</td>\n",
              "      <td>1</td>\n",
              "    </tr>\n",
              "  </tbody>\n",
              "</table>\n",
              "</div>\n",
              "    <div class=\"colab-df-buttons\">\n",
              "\n",
              "  <div class=\"colab-df-container\">\n",
              "    <button class=\"colab-df-convert\" onclick=\"convertToInteractive('df-f15659ee-da2c-4a3d-b8b7-41a9c0b7a867')\"\n",
              "            title=\"Convert this dataframe to an interactive table.\"\n",
              "            style=\"display:none;\">\n",
              "\n",
              "  <svg xmlns=\"http://www.w3.org/2000/svg\" height=\"24px\" viewBox=\"0 -960 960 960\">\n",
              "    <path d=\"M120-120v-720h720v720H120Zm60-500h600v-160H180v160Zm220 220h160v-160H400v160Zm0 220h160v-160H400v160ZM180-400h160v-160H180v160Zm440 0h160v-160H620v160ZM180-180h160v-160H180v160Zm440 0h160v-160H620v160Z\"/>\n",
              "  </svg>\n",
              "    </button>\n",
              "\n",
              "  <style>\n",
              "    .colab-df-container {\n",
              "      display:flex;\n",
              "      gap: 12px;\n",
              "    }\n",
              "\n",
              "    .colab-df-convert {\n",
              "      background-color: #E8F0FE;\n",
              "      border: none;\n",
              "      border-radius: 50%;\n",
              "      cursor: pointer;\n",
              "      display: none;\n",
              "      fill: #1967D2;\n",
              "      height: 32px;\n",
              "      padding: 0 0 0 0;\n",
              "      width: 32px;\n",
              "    }\n",
              "\n",
              "    .colab-df-convert:hover {\n",
              "      background-color: #E2EBFA;\n",
              "      box-shadow: 0px 1px 2px rgba(60, 64, 67, 0.3), 0px 1px 3px 1px rgba(60, 64, 67, 0.15);\n",
              "      fill: #174EA6;\n",
              "    }\n",
              "\n",
              "    .colab-df-buttons div {\n",
              "      margin-bottom: 4px;\n",
              "    }\n",
              "\n",
              "    [theme=dark] .colab-df-convert {\n",
              "      background-color: #3B4455;\n",
              "      fill: #D2E3FC;\n",
              "    }\n",
              "\n",
              "    [theme=dark] .colab-df-convert:hover {\n",
              "      background-color: #434B5C;\n",
              "      box-shadow: 0px 1px 3px 1px rgba(0, 0, 0, 0.15);\n",
              "      filter: drop-shadow(0px 1px 2px rgba(0, 0, 0, 0.3));\n",
              "      fill: #FFFFFF;\n",
              "    }\n",
              "  </style>\n",
              "\n",
              "    <script>\n",
              "      const buttonEl =\n",
              "        document.querySelector('#df-f15659ee-da2c-4a3d-b8b7-41a9c0b7a867 button.colab-df-convert');\n",
              "      buttonEl.style.display =\n",
              "        google.colab.kernel.accessAllowed ? 'block' : 'none';\n",
              "\n",
              "      async function convertToInteractive(key) {\n",
              "        const element = document.querySelector('#df-f15659ee-da2c-4a3d-b8b7-41a9c0b7a867');\n",
              "        const dataTable =\n",
              "          await google.colab.kernel.invokeFunction('convertToInteractive',\n",
              "                                                    [key], {});\n",
              "        if (!dataTable) return;\n",
              "\n",
              "        const docLinkHtml = 'Like what you see? Visit the ' +\n",
              "          '<a target=\"_blank\" href=https://colab.research.google.com/notebooks/data_table.ipynb>data table notebook</a>'\n",
              "          + ' to learn more about interactive tables.';\n",
              "        element.innerHTML = '';\n",
              "        dataTable['output_type'] = 'display_data';\n",
              "        await google.colab.output.renderOutput(dataTable, element);\n",
              "        const docLink = document.createElement('div');\n",
              "        docLink.innerHTML = docLinkHtml;\n",
              "        element.appendChild(docLink);\n",
              "      }\n",
              "    </script>\n",
              "  </div>\n",
              "\n",
              "\n",
              "<div id=\"df-a942074e-21b7-46fc-a0f4-1b1145343a28\">\n",
              "  <button class=\"colab-df-quickchart\" onclick=\"quickchart('df-a942074e-21b7-46fc-a0f4-1b1145343a28')\"\n",
              "            title=\"Suggest charts\"\n",
              "            style=\"display:none;\">\n",
              "\n",
              "<svg xmlns=\"http://www.w3.org/2000/svg\" height=\"24px\"viewBox=\"0 0 24 24\"\n",
              "     width=\"24px\">\n",
              "    <g>\n",
              "        <path d=\"M19 3H5c-1.1 0-2 .9-2 2v14c0 1.1.9 2 2 2h14c1.1 0 2-.9 2-2V5c0-1.1-.9-2-2-2zM9 17H7v-7h2v7zm4 0h-2V7h2v10zm4 0h-2v-4h2v4z\"/>\n",
              "    </g>\n",
              "</svg>\n",
              "  </button>\n",
              "\n",
              "<style>\n",
              "  .colab-df-quickchart {\n",
              "      --bg-color: #E8F0FE;\n",
              "      --fill-color: #1967D2;\n",
              "      --hover-bg-color: #E2EBFA;\n",
              "      --hover-fill-color: #174EA6;\n",
              "      --disabled-fill-color: #AAA;\n",
              "      --disabled-bg-color: #DDD;\n",
              "  }\n",
              "\n",
              "  [theme=dark] .colab-df-quickchart {\n",
              "      --bg-color: #3B4455;\n",
              "      --fill-color: #D2E3FC;\n",
              "      --hover-bg-color: #434B5C;\n",
              "      --hover-fill-color: #FFFFFF;\n",
              "      --disabled-bg-color: #3B4455;\n",
              "      --disabled-fill-color: #666;\n",
              "  }\n",
              "\n",
              "  .colab-df-quickchart {\n",
              "    background-color: var(--bg-color);\n",
              "    border: none;\n",
              "    border-radius: 50%;\n",
              "    cursor: pointer;\n",
              "    display: none;\n",
              "    fill: var(--fill-color);\n",
              "    height: 32px;\n",
              "    padding: 0;\n",
              "    width: 32px;\n",
              "  }\n",
              "\n",
              "  .colab-df-quickchart:hover {\n",
              "    background-color: var(--hover-bg-color);\n",
              "    box-shadow: 0 1px 2px rgba(60, 64, 67, 0.3), 0 1px 3px 1px rgba(60, 64, 67, 0.15);\n",
              "    fill: var(--button-hover-fill-color);\n",
              "  }\n",
              "\n",
              "  .colab-df-quickchart-complete:disabled,\n",
              "  .colab-df-quickchart-complete:disabled:hover {\n",
              "    background-color: var(--disabled-bg-color);\n",
              "    fill: var(--disabled-fill-color);\n",
              "    box-shadow: none;\n",
              "  }\n",
              "\n",
              "  .colab-df-spinner {\n",
              "    border: 2px solid var(--fill-color);\n",
              "    border-color: transparent;\n",
              "    border-bottom-color: var(--fill-color);\n",
              "    animation:\n",
              "      spin 1s steps(1) infinite;\n",
              "  }\n",
              "\n",
              "  @keyframes spin {\n",
              "    0% {\n",
              "      border-color: transparent;\n",
              "      border-bottom-color: var(--fill-color);\n",
              "      border-left-color: var(--fill-color);\n",
              "    }\n",
              "    20% {\n",
              "      border-color: transparent;\n",
              "      border-left-color: var(--fill-color);\n",
              "      border-top-color: var(--fill-color);\n",
              "    }\n",
              "    30% {\n",
              "      border-color: transparent;\n",
              "      border-left-color: var(--fill-color);\n",
              "      border-top-color: var(--fill-color);\n",
              "      border-right-color: var(--fill-color);\n",
              "    }\n",
              "    40% {\n",
              "      border-color: transparent;\n",
              "      border-right-color: var(--fill-color);\n",
              "      border-top-color: var(--fill-color);\n",
              "    }\n",
              "    60% {\n",
              "      border-color: transparent;\n",
              "      border-right-color: var(--fill-color);\n",
              "    }\n",
              "    80% {\n",
              "      border-color: transparent;\n",
              "      border-right-color: var(--fill-color);\n",
              "      border-bottom-color: var(--fill-color);\n",
              "    }\n",
              "    90% {\n",
              "      border-color: transparent;\n",
              "      border-bottom-color: var(--fill-color);\n",
              "    }\n",
              "  }\n",
              "</style>\n",
              "\n",
              "  <script>\n",
              "    async function quickchart(key) {\n",
              "      const quickchartButtonEl =\n",
              "        document.querySelector('#' + key + ' button');\n",
              "      quickchartButtonEl.disabled = true;  // To prevent multiple clicks.\n",
              "      quickchartButtonEl.classList.add('colab-df-spinner');\n",
              "      try {\n",
              "        const charts = await google.colab.kernel.invokeFunction(\n",
              "            'suggestCharts', [key], {});\n",
              "      } catch (error) {\n",
              "        console.error('Error during call to suggestCharts:', error);\n",
              "      }\n",
              "      quickchartButtonEl.classList.remove('colab-df-spinner');\n",
              "      quickchartButtonEl.classList.add('colab-df-quickchart-complete');\n",
              "    }\n",
              "    (() => {\n",
              "      let quickchartButtonEl =\n",
              "        document.querySelector('#df-a942074e-21b7-46fc-a0f4-1b1145343a28 button');\n",
              "      quickchartButtonEl.style.display =\n",
              "        google.colab.kernel.accessAllowed ? 'block' : 'none';\n",
              "    })();\n",
              "  </script>\n",
              "</div>\n",
              "\n",
              "    </div>\n",
              "  </div>\n"
            ]
          },
          "metadata": {},
          "execution_count": 28
        }
      ]
    },
    {
      "cell_type": "code",
      "source": [
        "data.isnull().sum()"
      ],
      "metadata": {
        "id": "PnzPUPPSegGf",
        "colab": {
          "base_uri": "https://localhost:8080/"
        },
        "outputId": "ff83e579-0c85-46b3-9892-02839c8be6f6"
      },
      "execution_count": null,
      "outputs": [
        {
          "output_type": "execute_result",
          "data": {
            "text/plain": [
              "text    0\n",
              "spam    0\n",
              "dtype: int64"
            ]
          },
          "metadata": {},
          "execution_count": 29
        }
      ]
    },
    {
      "cell_type": "code",
      "source": [
        "data.iloc[2,0]"
      ],
      "metadata": {
        "id": "J-je9g1RgUBa",
        "colab": {
          "base_uri": "https://localhost:8080/",
          "height": 71
        },
        "outputId": "44d59c53-a244-4bc9-971a-fbe66b656e15"
      },
      "execution_count": null,
      "outputs": [
        {
          "output_type": "execute_result",
          "data": {
            "text/plain": [
              "'Subject: unbelievable new homes made easy  im wanting to show you this  homeowner  you have been pre - approved for a $ 454 , 169 home loan at a 3 . 72 fixed rate .  this offer is being extended to you unconditionally and your credit is in no way a factor .  to take advantage of this limited time opportunity  all we ask is that you visit our website and complete  the 1 minute post approval form  look foward to hearing from you ,  dorcas pittman'"
            ],
            "application/vnd.google.colaboratory.intrinsic+json": {
              "type": "string"
            }
          },
          "metadata": {},
          "execution_count": 30
        }
      ]
    },
    {
      "cell_type": "code",
      "source": [
        "unique_values = data['spam'].unique()\n",
        "unique_values"
      ],
      "metadata": {
        "id": "wmAg-IZde2WG",
        "colab": {
          "base_uri": "https://localhost:8080/"
        },
        "outputId": "f31fbdf6-63f6-40e5-e6e2-f0455f437608"
      },
      "execution_count": null,
      "outputs": [
        {
          "output_type": "execute_result",
          "data": {
            "text/plain": [
              "array([1, 0])"
            ]
          },
          "metadata": {},
          "execution_count": 31
        }
      ]
    },
    {
      "cell_type": "code",
      "source": [
        "data.iloc[2500,0]"
      ],
      "metadata": {
        "id": "BLO5LF8qgde6",
        "colab": {
          "base_uri": "https://localhost:8080/",
          "height": 105
        },
        "outputId": "1a52fd1a-6e20-4a71-b5be-c23bf904b5d3"
      },
      "execution_count": null,
      "outputs": [
        {
          "output_type": "execute_result",
          "data": {
            "text/plain": [
              "'Subject: carnegie mellon recruiting  i received the following email this afternoon .  - kevin k .  - - - - - - - - - - - - - - - - - - - - - - forwarded by kevin kindall / corp / enron on 11 / 16 / 2000  05 : 22 pm - - - - - - - - - - - - - - - - - - - - - - - - - - -  sallygould on 11 / 16 / 2000 03 : 38 : 44 pm  to : kevin . kindall @ enron . com  cc :  subject : carnegie mellon recruiting  kevin ,  jean eisel asked that i connect with you about recruiting comp . finance  students .  please contact me with questions you might have about the recruiting  process or if you have some dates in mind for coming to campus .  i look forward to hearing from you .  regards ,  sally gould  recruiting coordinator  gsia - carnegie mellon university  412 - 268 - 1311  412 - 268 - 4146 ( fx )'"
            ],
            "application/vnd.google.colaboratory.intrinsic+json": {
              "type": "string"
            }
          },
          "metadata": {},
          "execution_count": 32
        }
      ]
    },
    {
      "cell_type": "markdown",
      "source": [
        "Building vocabulary for words seen in the email.csv<br>\n"
      ],
      "metadata": {
        "id": "c8B7d8B4JMw1"
      }
    },
    {
      "cell_type": "code",
      "source": [
        "def build_vocab(curr_email): #take words and store each at a specific index\n",
        "  index = len(vocabulary)\n",
        "  for word in curr_email:\n",
        "    if word.lower() not in vocabulary and word.lower() in set_words:\n",
        "      vocabulary[word] = index\n",
        "      index += 1"
      ],
      "metadata": {
        "id": "gO-SAz6z8wky"
      },
      "execution_count": null,
      "outputs": []
    },
    {
      "cell_type": "code",
      "source": [
        "%%capture\n",
        "if __name__ == '__main__':\n",
        "  for i in range(data.shape[0]):\n",
        "    curr_email = data.iloc[i,0].split()\n",
        "    print(f\"Current email is {i}/{data.shape[0]} and the length of vocabulary is {len(vocabulary)}\")\n",
        "\n",
        "    build_vocab(curr_email)"
      ],
      "metadata": {
        "id": "LIcEcCDo9pwo"
      },
      "execution_count": null,
      "outputs": []
    },
    {
      "cell_type": "code",
      "source": [
        "len(vocabulary)"
      ],
      "metadata": {
        "id": "_bZSpoilI0KA",
        "colab": {
          "base_uri": "https://localhost:8080/"
        },
        "outputId": "e35cff3e-91b0-4af3-99c0-719e167b7ed2"
      },
      "execution_count": null,
      "outputs": [
        {
          "output_type": "execute_result",
          "data": {
            "text/plain": [
              "12011"
            ]
          },
          "metadata": {},
          "execution_count": 35
        }
      ]
    },
    {
      "cell_type": "markdown",
      "source": [
        "Go through each email and map into X,y dataset. Map each email into some frequency array.<br>\n",
        "We have 12000 words in our vocabulary so each training example is going to be 12000 features."
      ],
      "metadata": {
        "id": "pNIW7OPZLHGh"
      }
    },
    {
      "cell_type": "code",
      "source": [
        "X = np.zeros((data.shape[0], len(vocabulary)))\n",
        "y = np.zeros((data.shape[0]))\n",
        "\n",
        "for i in range(data.shape[0]):\n",
        "  email = data.iloc[i,0].split()\n",
        "\n",
        "  for email_word in email:\n",
        "    if email_word.lower() in vocabulary:#Checks if the lowercase version of the word is in the predefined vocabulary.\n",
        "      X[i, vocabulary[email_word]] += 1\n",
        "      y[i] = data.iloc[i,1]"
      ],
      "metadata": {
        "id": "fMmiPSZwMM2P"
      },
      "execution_count": null,
      "outputs": []
    },
    {
      "cell_type": "code",
      "source": [
        "np.savetxt('X.txt', X, delimiter=',')\n",
        "np.savetxt('y.txt', y, fmt='%d')"
      ],
      "metadata": {
        "id": "jdXbNriMMVpN"
      },
      "execution_count": null,
      "outputs": []
    },
    {
      "cell_type": "markdown",
      "source": [
        "Naive Bayes"
      ],
      "metadata": {
        "id": "VfmLs7JRhJfQ"
      }
    },
    {
      "cell_type": "code",
      "source": [
        "class NaiveBayes():\n",
        "  def __init__(self,X,y): #X -> all the training samples and features, y -> target class\n",
        "    self.num_examples,self.num_features = X.shape\n",
        "    self.num_classes = len(np.unique(y))\n",
        "    self.eps = 1e-6 # introduces a level of numerical stability, ensuring that the calculations remain well-behaved and don't encounter problems associated with extremely small numbers\n",
        "\n",
        "  def fit(self,X,y):# training phase of naive bayes\n",
        "     self.classes_mean = {}\n",
        "     self.classes_variance = {}\n",
        "     self.classes_prior = {}\n",
        "\n",
        "     for c in range(self.num_classes):\n",
        "      X_c = X[y==c] # pickout emails from a specific class, spam and not spam\n",
        "\n",
        "      self.classes_mean[c] = np.mean(X_c,axis=0) #find mean for this specific class\n",
        "      self.classes_variance[c] = np.var(X_c,axis=0)\n",
        "      self.classes_prior[c] = X_c.shape[0]/self.num_examples\n",
        "\n",
        "  def predict(self,X): #prediction\n",
        "    #for each email we find the prob of it being spam and not spam\n",
        "    probs = np.zeros((self.num_examples,self.num_classes))\n",
        "\n",
        "    for c in range(self.num_classes):\n",
        "      prior = self.classes_prior[c]\n",
        "      likelihood = self.density_function(X,self.classes_mean[c],self.classes_variance[c])\n",
        "      probs[:,c] = likelihood + np.log(prior) #likelihood * prior , we use log function to prevent underflow\n",
        "\n",
        "    return np.argmax(probs,1)\n",
        "\n",
        "  def density_function(self,x, mean, variance): #gaussian naive bayes -> p rob is normally distributed\n",
        "    const = -((self.num_features/2)*np.log(2*np.pi)) - 0.5*(np.sum(np.log(variance + self.eps)))\n",
        "    probs = 0.5* np.sum(np.power(x - mean,2)/(variance + self.eps),1)\n",
        "    return const - probs #normally these are multiplied, since we're taking the log, it converts the product into a sum\n",
        "\n",
        "  def is_spam(self, email):\n",
        "    email_features = np.zeros((1, len(vocabulary)))\n",
        "    email_words = email.split()\n",
        "    for word in email_words:\n",
        "      if word in vocabulary:\n",
        "        email_features[0, vocabulary[word]] += 1\n",
        "    prediction = self.predict(email_features)\n",
        "    return prediction[0]\n",
        "\n",
        "\n",
        "if __name__ == '__main__':\n",
        "\n",
        "  X = np.loadtxt('X.txt',delimiter=',')\n",
        "  y = np.loadtxt('y.txt')\n",
        "\n",
        "  NB = NaiveBayes(X,y)\n",
        "  NB.fit(X,y)\n",
        "  y_pred = NB.predict(X)"
      ],
      "metadata": {
        "id": "e1y9iZ4YQ5A_"
      },
      "execution_count": null,
      "outputs": []
    },
    {
      "cell_type": "code",
      "source": [
        "print(X.shape)\n",
        "print(y.shape)"
      ],
      "metadata": {
        "id": "r5s8m6PINZ-e",
        "colab": {
          "base_uri": "https://localhost:8080/"
        },
        "outputId": "53869646-139a-4634-abce-ddc396649e01"
      },
      "execution_count": null,
      "outputs": [
        {
          "output_type": "stream",
          "name": "stdout",
          "text": [
            "(5728, 12011)\n",
            "(5728,)\n"
          ]
        }
      ]
    },
    {
      "cell_type": "code",
      "source": [
        "NB = NaiveBayes(X,y)\n",
        "NB.fit(X,y)\n",
        "y_pred = NB.predict(X)\n",
        "\n",
        "print(sum(y_pred == y)/X.shape[0]) #accuracy"
      ],
      "metadata": {
        "id": "neLNU0txNgCV",
        "colab": {
          "base_uri": "https://localhost:8080/"
        },
        "outputId": "2752bae9-33d5-468d-f074-73dfc2f3a367"
      },
      "execution_count": null,
      "outputs": [
        {
          "output_type": "stream",
          "name": "stdout",
          "text": [
            "0.9149790502793296\n"
          ]
        }
      ]
    },
    {
      "cell_type": "code",
      "source": [
        "y_pred"
      ],
      "metadata": {
        "id": "RYzmWB5XfZk7",
        "colab": {
          "base_uri": "https://localhost:8080/"
        },
        "outputId": "cea110c7-dedf-49db-afe3-083785903146"
      },
      "execution_count": null,
      "outputs": [
        {
          "output_type": "execute_result",
          "data": {
            "text/plain": [
              "array([1, 1, 1, ..., 0, 0, 0])"
            ]
          },
          "metadata": {},
          "execution_count": 41
        }
      ]
    },
    {
      "cell_type": "code",
      "source": [
        "test_email = input(\"Enter the email:\")\n",
        "is_spam = NB.is_spam(test_email)\n",
        "if is_spam == 1:\n",
        "  print(\"The email is classified as spam.\")\n",
        "else:\n",
        "  print(\"The email is not classified as spam.\")"
      ],
      "metadata": {
        "id": "vHuchUKzpObu",
        "colab": {
          "base_uri": "https://localhost:8080/"
        },
        "outputId": "577b5d66-c31e-45f7-c9ce-a7b978b0639d"
      },
      "execution_count": null,
      "outputs": [
        {
          "output_type": "stream",
          "name": "stdout",
          "text": [
            "Enter the email:Subject: Urgent Opportunity - Act Now for Huge Profits!  Hello Sarah Miller,  We hope this message finds you well. We have a time-sensitive investment opportunity that is too good to miss!  Exciting Opportunity: Our groundbreaking investment scheme guarantees massive returns in just a few days!  Join our exclusive group of successful investors who have already benefited from this incredible offer.  Act now and secure your financial future!  Best regards, John Reynolds Investment Mastery Group\n",
            "The email is classified as spam.\n"
          ]
        }
      ]
    },
    {
      "cell_type": "code",
      "source": [
        "'''Spam:\n",
        "Subject: Urgent Opportunity - Act Now for Huge Profits!\n",
        "\n",
        "Hello Sarah Miller,\n",
        "\n",
        "We hope this message finds you well. We have a time-sensitive investment opportunity that is too good to miss!\n",
        "\n",
        "Exciting Opportunity: Our groundbreaking investment scheme guarantees massive returns in just a few days!\n",
        "\n",
        "Join our exclusive group of successful investors who have already benefited from this incredible offer.\n",
        "\n",
        "Act now and secure your financial future!\n",
        "\n",
        "Best regards,\n",
        "John Reynolds\n",
        "Investment Mastery Group\n",
        "'''"
      ],
      "metadata": {
        "id": "o1mWDZJGLOwX"
      },
      "execution_count": null,
      "outputs": []
    },
    {
      "cell_type": "code",
      "source": [
        "'''Not Spam:\n",
        "Subject: Follow-Up on Our Recent Meeting\n",
        "\n",
        "Dear Alex Thompson,\n",
        "\n",
        "I hope this email finds you well. I wanted to follow up on our recent meeting and express my appreciation for the insightful discussion we had.\n",
        "\n",
        "During our conversation, we touched upon the upcoming project deadline. I found your perspectives on streamlining the workflow particularly interesting and believe there is potential for collaboration on process improvement initiatives.\n",
        "\n",
        "I would love to schedule another meeting at your convenience to delve deeper into these opportunities. Please let me know a time that works best for you.\n",
        "\n",
        "Thank you once again for your time and valuable insights. I look forward to continuing our conversation.\n",
        "\n",
        "Best regards,\n",
        "\n",
        "Emily Rodriguez\n",
        "Project Manager\n",
        "ABC Corporation\n",
        "emily.rodriguez@email.com\n",
        "(555) 123-4567'''"
      ],
      "metadata": {
        "id": "6yvTGTY6LWoU"
      },
      "execution_count": null,
      "outputs": []
    },
    {
      "cell_type": "code",
      "source": [],
      "metadata": {
        "id": "uPdTdvLOLbvi"
      },
      "execution_count": null,
      "outputs": []
    }
  ]
}